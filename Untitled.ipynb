{
 "cells": [
  {
   "cell_type": "code",
   "execution_count": 4,
   "id": "c13dfab6-7d19-44d9-ae99-19b725df9b4b",
   "metadata": {},
   "outputs": [],
   "source": [
    "import numpy as np\n",
    "import pandas as pd\n",
    "import matplotlib.pyplot as plt\n",
    "import seaborn as sns\n",
    "%matplotlib inline\n",
    "import tensorflow as tf\n",
    "from keras.preprocessing.image import ImageDataGenerator"
   ]
  },
  {
   "cell_type": "code",
   "execution_count": 5,
   "id": "e1576481-d0f7-4a01-a5df-536deac854b3",
   "metadata": {},
   "outputs": [
    {
     "name": "stdout",
     "output_type": "stream",
     "text": [
      "Found 10000 images belonging to 10 classes.\n"
     ]
    }
   ],
   "source": [
    "train_datagen = ImageDataGenerator(\n",
    "        rescale=1./255,\n",
    "        shear_range=0.2,\n",
    "        zoom_range=0.2,\n",
    "        horizontal_flip=True)\n",
    "\n",
    "test_datagen = ImageDataGenerator(rescale=1./255)\n",
    "\n",
    "train_generator = train_datagen.flow_from_directory(\n",
    "        './train',\n",
    "        target_size=(150, 150),\n",
    "        batch_size=32,\n",
    "        class_mode='categorical')"
   ]
  },
  {
   "cell_type": "code",
   "execution_count": 6,
   "id": "b187ed20-93d4-44aa-b8df-16f1fc17d096",
   "metadata": {},
   "outputs": [
    {
     "name": "stdout",
     "output_type": "stream",
     "text": [
      "Found 1000 images belonging to 10 classes.\n"
     ]
    }
   ],
   "source": [
    "test_generator = test_datagen.flow_from_directory(\n",
    "        './val',\n",
    "        target_size=(150, 150),\n",
    "        batch_size=32,\n",
    "        class_mode='categorical')"
   ]
  },
  {
   "cell_type": "code",
   "execution_count": 7,
   "id": "71131621-2874-4957-95b6-dd8ceac9434b",
   "metadata": {},
   "outputs": [
    {
     "name": "stdout",
     "output_type": "stream",
     "text": [
      "Model: \"sequential_1\"\n",
      "_________________________________________________________________\n",
      " Layer (type)                Output Shape              Param #   \n",
      "=================================================================\n",
      " conv2d_3 (Conv2D)           (None, 148, 148, 32)      896       \n",
      "                                                                 \n",
      " max_pooling2d_3 (MaxPooling  (None, 74, 74, 32)       0         \n",
      " 2D)                                                             \n",
      "                                                                 \n",
      " conv2d_4 (Conv2D)           (None, 72, 72, 32)        9248      \n",
      "                                                                 \n",
      " max_pooling2d_4 (MaxPooling  (None, 36, 36, 32)       0         \n",
      " 2D)                                                             \n",
      "                                                                 \n",
      " flatten (Flatten)           (None, 41472)             0         \n",
      "                                                                 \n",
      " dense (Dense)               (None, 128)               5308544   \n",
      "                                                                 \n",
      " dense_1 (Dense)             (None, 10)                1290      \n",
      "                                                                 \n",
      "=================================================================\n",
      "Total params: 5,319,978\n",
      "Trainable params: 5,319,978\n",
      "Non-trainable params: 0\n",
      "_________________________________________________________________\n",
      "Epoch 1/25\n",
      "313/313 [==============================] - 342s 1s/step - loss: 0.1975 - accuracy: 0.5828 - val_loss: 0.1667 - val_accuracy: 0.6620\n",
      "Epoch 2/25\n",
      "313/313 [==============================] - 215s 687ms/step - loss: 0.1157 - accuracy: 0.7854 - val_loss: 0.1484 - val_accuracy: 0.7220\n",
      "Epoch 3/25\n",
      "313/313 [==============================] - 217s 691ms/step - loss: 0.0916 - accuracy: 0.8390 - val_loss: 0.1718 - val_accuracy: 0.6810\n",
      "Epoch 4/25\n",
      "313/313 [==============================] - 219s 699ms/step - loss: 0.0770 - accuracy: 0.8652 - val_loss: 0.1656 - val_accuracy: 0.7090\n",
      "Epoch 5/25\n",
      "313/313 [==============================] - 218s 695ms/step - loss: 0.0689 - accuracy: 0.8834 - val_loss: 0.1632 - val_accuracy: 0.7380\n",
      "Epoch 6/25\n",
      "313/313 [==============================] - 207s 661ms/step - loss: 0.0593 - accuracy: 0.8954 - val_loss: 0.1678 - val_accuracy: 0.7280\n",
      "Epoch 7/25\n",
      "313/313 [==============================] - 205s 654ms/step - loss: 0.0569 - accuracy: 0.9074 - val_loss: 0.1219 - val_accuracy: 0.7910\n",
      "Epoch 8/25\n",
      "313/313 [==============================] - 204s 653ms/step - loss: 0.0500 - accuracy: 0.9188 - val_loss: 0.1051 - val_accuracy: 0.8340\n",
      "Epoch 9/25\n",
      "313/313 [==============================] - 210s 670ms/step - loss: 0.0455 - accuracy: 0.9294 - val_loss: 0.0902 - val_accuracy: 0.8630\n",
      "Epoch 10/25\n",
      "313/313 [==============================] - 207s 659ms/step - loss: 0.0427 - accuracy: 0.9344 - val_loss: 0.0911 - val_accuracy: 0.8530\n",
      "Epoch 11/25\n",
      "313/313 [==============================] - 203s 649ms/step - loss: 0.0407 - accuracy: 0.9353 - val_loss: 0.1102 - val_accuracy: 0.8400\n",
      "Epoch 12/25\n",
      "313/313 [==============================] - 205s 653ms/step - loss: 0.0365 - accuracy: 0.9436 - val_loss: 0.0723 - val_accuracy: 0.8940\n",
      "Epoch 13/25\n",
      "313/313 [==============================] - 208s 664ms/step - loss: 0.0350 - accuracy: 0.9443 - val_loss: 0.0810 - val_accuracy: 0.8860\n",
      "Epoch 14/25\n",
      "313/313 [==============================] - 208s 664ms/step - loss: 0.0304 - accuracy: 0.9563 - val_loss: 0.0930 - val_accuracy: 0.8690\n",
      "Epoch 15/25\n",
      "313/313 [==============================] - 220s 703ms/step - loss: 0.0324 - accuracy: 0.9526 - val_loss: 0.1114 - val_accuracy: 0.8430\n",
      "Epoch 16/25\n",
      "313/313 [==============================] - 325s 1s/step - loss: 0.0311 - accuracy: 0.9536 - val_loss: 0.1600 - val_accuracy: 0.7680\n",
      "Epoch 17/25\n",
      "313/313 [==============================] - 324s 1s/step - loss: 0.0279 - accuracy: 0.9588 - val_loss: 0.0918 - val_accuracy: 0.8690\n",
      "Epoch 18/25\n",
      "313/313 [==============================] - 259s 824ms/step - loss: 0.0237 - accuracy: 0.9668 - val_loss: 0.0912 - val_accuracy: 0.8820\n",
      "Epoch 19/25\n",
      "313/313 [==============================] - 203s 649ms/step - loss: 0.0258 - accuracy: 0.9644 - val_loss: 0.0845 - val_accuracy: 0.8710\n",
      "Epoch 20/25\n",
      "313/313 [==============================] - 202s 644ms/step - loss: 0.0254 - accuracy: 0.9644 - val_loss: 0.1102 - val_accuracy: 0.8530\n",
      "Epoch 21/25\n",
      "313/313 [==============================] - 202s 644ms/step - loss: 0.0194 - accuracy: 0.9741 - val_loss: 0.1257 - val_accuracy: 0.8570\n",
      "Epoch 22/25\n",
      "313/313 [==============================] - 202s 646ms/step - loss: 0.0238 - accuracy: 0.9671 - val_loss: 0.0822 - val_accuracy: 0.9000\n",
      "Epoch 23/25\n",
      "313/313 [==============================] - 203s 649ms/step - loss: 0.0188 - accuracy: 0.9745 - val_loss: 0.1139 - val_accuracy: 0.8640\n",
      "Epoch 24/25\n",
      "313/313 [==============================] - 204s 652ms/step - loss: 0.0198 - accuracy: 0.9744 - val_loss: 0.1293 - val_accuracy: 0.8430\n",
      "Epoch 25/25\n",
      "313/313 [==============================] - 205s 653ms/step - loss: 0.0220 - accuracy: 0.9716 - val_loss: 0.0803 - val_accuracy: 0.9000\n"
     ]
    }
   ],
   "source": [
    "cnn = tf.keras.models.Sequential()\n",
    "\n",
    "#Convolution layer 1\n",
    "cnn.add(tf.keras.layers.Conv2D(filters=32,kernel_size = 3, activation='relu',input_shape=[150, 150,3]))\n",
    "\n",
    "# Pooling 1\n",
    "cnn.add(tf.keras.layers.MaxPool2D(pool_size=2, strides=2))\n",
    "\n",
    "#Convolution layer 2\n",
    "cnn.add(tf.keras.layers.Conv2D(filters=32,kernel_size = 3, activation='relu',input_shape=[150, 150,3]))\n",
    "\n",
    "# Pooling 2\n",
    "cnn.add(tf.keras.layers.MaxPool2D(pool_size=2, strides=2))\n",
    "\n",
    "# Flattening\n",
    "cnn.add(tf.keras.layers.Flatten())\n",
    "\n",
    "#Full Conncetion\n",
    "cnn.add(tf.keras.layers.Dense(units=128,activation='relu'))\n",
    "\n",
    "#Output Layer\n",
    "cnn.add(tf.keras.layers.Dense(units=10,activation='softmax'))\n",
    "\n",
    "#Compiling\n",
    "cnn.compile(optimizer='adam',loss='binary_crossentropy',metrics=['accuracy'])\n",
    "\n",
    "# Summary of the model\n",
    "cnn.summary()\n",
    "\n",
    "# Fit\n",
    "temp = cnn.fit(x = train_generator, validation_data=test_generator,epochs=25)"
   ]
  },
  {
   "cell_type": "code",
   "execution_count": 8,
   "id": "887af3b3-c28d-4f1e-82cd-d6702c4febc8",
   "metadata": {},
   "outputs": [
    {
     "data": {
      "image/png": "[encoded data removed]",
      "text/plain": [
       "<Figure size 432x288 with 1 Axes>"
      ]
     },
     "metadata": {
      "needs_background": "light"
     },
     "output_type": "display_data"
    },
    {
     "data": {
      "image/png": "[encoded data removed]",
      "text/plain": [
       "<Figure size 432x288 with 1 Axes>"
      ]
     },
     "metadata": {
      "needs_background": "light"
     },
     "output_type": "display_data"
    },
    {
     "data": {
      "text/plain": [
       "<Figure size 432x288 with 0 Axes>"
      ]
     },
     "metadata": {},
     "output_type": "display_data"
    }
   ],
   "source": [
    "plt.plot(temp.history['loss'], label='train loss')\n",
    "plt.plot(temp.history['val_loss'], label='val loss')\n",
    "plt.legend()\n",
    "plt.show()\n",
    "plt.savefig('LossVal_loss')\n",
    "\n",
    "# plot the accuracy\n",
    "plt.plot(temp.history['accuracy'], label='train acc')\n",
    "plt.plot(temp.history['val_accuracy'], label='val acc')\n",
    "plt.legend()\n",
    "plt.show()\n",
    "plt.savefig('AccVal_acc')"
   ]
  },
  {
   "cell_type": "code",
   "execution_count": 46,
   "id": "39197af3-c418-4877-a2ad-4dff8a10480f",
   "metadata": {},
   "outputs": [
    {
     "name": "stdout",
     "output_type": "stream",
     "text": [
      "4\n"
     ]
    }
   ],
   "source": [
    "from keras.preprocessing import image\n",
    "test = image.load_img(\"./val/Tomato___Septoria_leaf_spot/00f16858-f392-4d9e-ad9f-efab8049a13f___JR_Sept.L.S 8368.JPG\",target_size = (150, 150))\n",
    "test=image.img_to_array(test)\n",
    "test=np.expand_dims(test,axis=0)\n",
    "result=cnn.predict(test)\n",
    "print(np.argmax(result))"
   ]
  },
  {
   "cell_type": "code",
   "execution_count": 47,
   "id": "abe34ef5-6b36-431c-93f4-c979fe331c37",
   "metadata": {},
   "outputs": [
    {
     "data": {
      "text/plain": [
       "array([[0., 0., 0., 0., 1., 0., 0., 0., 0., 0.]], dtype=float32)"
      ]
     },
     "execution_count": 47,
     "metadata": {},
     "output_type": "execute_result"
    }
   ],
   "source": [
    "result"
   ]
  },
  {
   "cell_type": "code",
   "execution_count": 11,
   "id": "dbfc700c-f982-464e-b1a5-1f49fb9a13a4",
   "metadata": {},
   "outputs": [
    {
     "name": "stdout",
     "output_type": "stream",
     "text": [
      "INFO:tensorflow:Assets written to: ram://ce52acfa-cfe1-4cca-b518-2a7ee62f8bc5/assets\n"
     ]
    }
   ],
   "source": [
    "import pickle\n",
    "pickle.dump(temp, open(\"model.pkl\", \"wb\"))"
   ]
  },
  {
   "cell_type": "code",
   "execution_count": 50,
   "id": "cf2f1890-7a38-4fd0-95a4-bafd17b28604",
   "metadata": {},
   "outputs": [],
   "source": [
    "from tensorflow.keras.applications.resnet50 import preprocess_input, decode_predictions\n",
    "from tensorflow.keras.preprocessing import image"
   ]
  },
  {
   "cell_type": "code",
   "execution_count": 178,
   "id": "b3f96e7d-a4f6-4213-9d83-09f2803a7e48",
   "metadata": {},
   "outputs": [],
   "source": [
    "from tensorflow.keras.models import load_model\n",
    "cnn.save('model_inception.h5')"
   ]
  },
  {
   "cell_type": "code",
   "execution_count": 59,
   "id": "43f4dafa-86f0-4a31-bf40-93e70f0cebf9",
   "metadata": {},
   "outputs": [
    {
     "name": "stdout",
     "output_type": "stream",
     "text": [
      "Found 1000 images belonging to 10 classes.\n"
     ]
    }
   ],
   "source": [
    "test_set = test_datagen.flow_from_directory('./val',\n",
    "                                            target_size = (150, 150),\n",
    "                                            batch_size = 32,\n",
    "                                            class_mode = 'categorical')"
   ]
  },
  {
   "cell_type": "code",
   "execution_count": 54,
   "id": "c2481871-86ff-44cd-a4a5-ce8ea266466d",
   "metadata": {},
   "outputs": [
    {
     "data": {
      "text/plain": [
       "array([[1.3896475e-07, 2.4862465e-11, 6.0242044e-08, ..., 1.4613897e-09,\n",
       "        2.5759093e-12, 5.5152367e-13],\n",
       "       [3.7394713e-07, 6.1529677e-04, 1.0342924e-03, ..., 6.5435972e-03,\n",
       "        1.2296819e-06, 3.9338990e-09],\n",
       "       [1.8247429e-14, 9.9995244e-01, 1.6089503e-08, ..., 5.6331550e-16,\n",
       "        1.6915085e-09, 1.5096725e-10],\n",
       "       ...,\n",
       "       [7.4677194e-20, 2.5915217e-10, 9.4605052e-01, ..., 7.1693286e-17,\n",
       "        1.1242895e-24, 1.8862922e-20],\n",
       "       [7.0707564e-18, 3.2561848e-21, 6.9081493e-14, ..., 9.5771575e-18,\n",
       "        9.9999821e-01, 1.0677198e-11],\n",
       "       [1.0000000e+00, 2.6790029e-12, 1.3275895e-12, ..., 4.5837401e-13,\n",
       "        1.8729641e-21, 6.9172513e-20]], dtype=float32)"
      ]
     },
     "execution_count": 54,
     "metadata": {},
     "output_type": "execute_result"
    }
   ],
   "source": [
    "y_pred = cnn.predict(test_set)\n",
    "y_pred"
   ]
  },
  {
   "cell_type": "code",
   "execution_count": 165,
   "id": "1d56d66b-af1f-4ec6-abd1-08fbaefdf784",
   "metadata": {},
   "outputs": [],
   "source": [
    "model = load_model('model_inception.h5')"
   ]
  },
  {
   "cell_type": "code",
   "execution_count": 166,
   "id": "a434e127-0ec2-400f-a343-bb69ea459cd1",
   "metadata": {},
   "outputs": [],
   "source": [
    " test = image.load_img(\"./val/Tomato___Target_Spot/0a2de4c5-d688-4f9d-9107-ace1d281c307___Com.G_TgS_FL 7941.JPG\",target_size=(150,150,3))"
   ]
  },
  {
   "cell_type": "code",
   "execution_count": 167,
   "id": "35c8be49-2300-4625-b241-61f128213cb0",
   "metadata": {},
   "outputs": [],
   "source": [
    "test=np.array(test)"
   ]
  },
  {
   "cell_type": "code",
   "execution_count": 168,
   "id": "36f7db9b-392a-4758-9f6c-4517f18e8271",
   "metadata": {},
   "outputs": [],
   "source": [
    "test=test/255"
   ]
  },
  {
   "cell_type": "code",
   "execution_count": 169,
   "id": "90d90218-711a-431f-8238-57c45ac698c1",
   "metadata": {},
   "outputs": [],
   "source": [
    "test=np.expand_dims(test,axis=0)"
   ]
  },
  {
   "cell_type": "code",
   "execution_count": 172,
   "id": "d8e73b9e-8636-4b73-a063-47f493af4f45",
   "metadata": {},
   "outputs": [],
   "source": [
    "result=model.predict(test)"
   ]
  },
  {
   "cell_type": "code",
   "execution_count": 173,
   "id": "fd1931e9-7abf-40a5-8084-cc79a9dffee3",
   "metadata": {},
   "outputs": [],
   "source": [
    " pred_name = np.argmax(result)+1"
   ]
  },
  {
   "cell_type": "code",
   "execution_count": 174,
   "id": "ff72ec22-8927-444b-bed4-213d02b70a0d",
   "metadata": {},
   "outputs": [],
   "source": [
    "class_name=['Tomato___Bacterial_spot','Tomato___Early_blight','Tomato___healthy','Tomato___Late_blight','Tomato___Leaf_Mold','Tomato___Septoria_leaf_spot','Tomato___Spider_mites Two-spotted_spider_mite','Tomato___Target_Spot','Tomato___Tomato_mosaic_virus','Tomato___Tomato_Yellow_Leaf_Curl_Virus']"
   ]
  },
  {
   "cell_type": "code",
   "execution_count": 175,
   "id": "c6fde49e-ad3f-4481-b268-ef111f9817a5",
   "metadata": {},
   "outputs": [],
   "source": [
    "pred_name = class_name[pred_name]"
   ]
  },
  {
   "cell_type": "code",
   "execution_count": 176,
   "id": "666da1ef-8ef0-4529-91c1-a56dac9eb1ae",
   "metadata": {},
   "outputs": [
    {
     "data": {
      "text/plain": [
       "'Tomato___Target_Spot'"
      ]
     },
     "execution_count": 176,
     "metadata": {},
     "output_type": "execute_result"
    }
   ],
   "source": [
    "pred_name"
   ]
  },
  {
   "cell_type": "code",
   "execution_count": null,
   "id": "ec555751-7685-4ed3-a906-8af724589768",
   "metadata": {},
   "outputs": [],
   "source": []
  }
 ],
 "metadata": {
  "kernelspec": {
   "display_name": "Python 3 (ipykernel)",
   "language": "python",
   "name": "python3"
  },
  "language_info": {
   "codemirror_mode": {
    "name": "ipython",
    "version": 3
   },
   "file_extension": ".py",
   "mimetype": "text/x-python",
   "name": "python",
   "nbconvert_exporter": "python",
   "pygments_lexer": "ipython3",
   "version": "3.10.4"
  }
 },
 "nbformat": 4,
 "nbformat_minor": 5
}
